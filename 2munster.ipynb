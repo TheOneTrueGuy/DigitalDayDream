{
  "nbformat": 4,
  "nbformat_minor": 0,
  "metadata": {
    "colab": {
      "provenance": [],
      "machine_shape": "hm",
      "gpuType": "T4"
    },
    "kernelspec": {
      "name": "python3",
      "display_name": "Python 3"
    },
    "language_info": {
      "name": "python"
    },
    "accelerator": "GPU"
  },
  "cells": [
    {
      "cell_type": "markdown",
      "source": [
        "Run each cell in sequence."
      ],
      "metadata": {
        "id": "pasS7dnMHtrG"
      }
    },
    {
      "cell_type": "code",
      "source": [
        "!pip install -q diffusers==0.14.0 transformers xformers git+https://github.com/huggingface/accelerate.git"
      ],
      "metadata": {
        "id": "tFwbb029IIoN"
      },
      "execution_count": null,
      "outputs": []
    },
    {
      "cell_type": "code",
      "source": [
        "from google.colab import drive\n",
        "drive.mount('/content/drive')"
      ],
      "metadata": {
        "id": "CPsclXa7yTJZ"
      },
      "execution_count": null,
      "outputs": []
    },
    {
      "cell_type": "code",
      "execution_count": null,
      "metadata": {
        "id": "T3iHSHsqxUef",
        "cellView": "code"
      },
      "outputs": [],
      "source": [
        "from diffusers import ControlNetModel, StableDiffusionControlNetPipeline\n",
        "from diffusers import UniPCMultistepScheduler\n",
        "model_name= \"monster-labs/control_v1p_sd15_qrcode_monster\" #@param {type:\"string\"}\n",
        "#replace the above pretrained model name with any you'd like to use\n",
        "controlnet = ControlNetModel.from_pretrained(model_name)\n",
        "pipe = StableDiffusionControlNetPipeline.from_pretrained(\n",
        "\t\"runwayml/stable-diffusion-v1-5\", controlnet=controlnet\n",
        ")\n",
        "\n",
        "pipe.scheduler = UniPCMultistepScheduler.from_config(pipe.scheduler.config)\n",
        "pipe.enable_model_cpu_offload() # no explicit tocuda()\n",
        "pipe.enable_xformers_memory_efficient_attention()\n",
        "\n"
      ]
    },
    {
      "cell_type": "code",
      "source": [
        "!git clone https://github.com/TheOneTrueGuy/DigitalDayDream.git\n",
        "!unzip -d /content/ /content/DigitalDayDream/yinyang.zip"
      ],
      "metadata": {
        "id": "ruWpyRWayYNo"
      },
      "execution_count": null,
      "outputs": []
    },
    {
      "cell_type": "code",
      "source": [
        "# run this first then make anim in next cell\n",
        "import torch\n",
        "#from diffusers import StableDiffusionXLImg2ImgPipeline\n",
        "from diffusers.utils import load_image\n",
        "#from diffusers import DiffusionPipeline\n",
        "import datetime as dt\n",
        "import time\n",
        "import os\n",
        "import random\n",
        "from PIL import ImageFont, ImageDraw, Image\n",
        "import math\n",
        "class FakeSafety():\n",
        "    def __call__(self, clip_input, images):\n",
        "        return (images, False)\n",
        "\n",
        "\n",
        "#pipe = pipe.to(\"cuda\")\n",
        "pipe.safety_checker = FakeSafety()\n",
        "\n"
      ],
      "metadata": {
        "id": "lxfIObQkyb7o"
      },
      "execution_count": null,
      "outputs": []
    },
    {
      "cell_type": "markdown",
      "source": [
        "Adjust file names, control image path, comma separated (csv) prompts, how often to change prompt and the number of control images. This assumes all control images are zero padded to 5 places with now prefix or suffix. Make any adjustment for your own images accordingly."
      ],
      "metadata": {
        "id": "2jn2ZQC0H-KB"
      }
    },
    {
      "cell_type": "code",
      "source": [
        "\n",
        "zip_name = \"test1.zip\" #@param {type:\"string\"}\n",
        "animation_name = \"test1.mp4\" #@param {type:\"string\"}\n",
        "control_image_path = \"/content/yinyang/\" #@param {type:\"string\"}\n",
        "csv_prompts = \"prompty prompt from promptland, frogs chasing dogs on logs in bogs with hogs, bizarre butterfly shimmering illusion of yin and yang\" #@param {type:\"string\"}\n",
        "negative_prompt = \"monochrome, lowres, bad anatomy, worst quality, low quality\" #@param {type:\"string\"}\n",
        "change_prompt_every = 10 #@param {type:\"integer\"}\n",
        "number_of_control_images = 23 #@param {type:\"integer\"}\n",
        "max_frames = 115 #@param {type:\"integer\"}\n",
        "prompt_list=csv_prompts.split(\",\")\n",
        "plist_len=len(prompt_list)\n",
        "\n",
        "outdir = dt.datetime.now().strftime(\"%Y%m%d%H%M\")\n",
        "# if outdir exists add 4 random digits to it:\n",
        "if os.path.exists(outdir):\n",
        "    # Generate 4 random digits\n",
        "    random_digits = str(random.randint(1000, 9999))\n",
        "\n",
        "    # Create a new output directory with the random digits appended\n",
        "    new_outdir = outdir + random_digits\n",
        "\n",
        "    os.mkdir(new_outdir)\n",
        "    outdir=new_outdir\n",
        "    print(\"Created new output directory:\", new_outdir)\n",
        "else:\n",
        "    os.system(f\"mkdir {outdir}\")\n",
        "print(\"date time now:\" + outdir)\n",
        "\n",
        "\n",
        "xl=0\n",
        "xr=2\n",
        "xz=0\n",
        "pc=0\n",
        "total=max_frames\n",
        "seed=random.randint(0, 99999)\n",
        "generator = torch.Generator(device=\"cpu\").manual_seed(seed) # fixed this so each run will be different\n",
        "print(f\"seed number {seed}\") #write this down at run time if you want to repeat an animation\n",
        "#control_image= load_image(\"grill5.png\").convert(\"RGB\") # used for a single fixed frame control\n",
        "prompt=prompt_list[0]\n",
        "\n",
        "for xn in range(0,total,1):#must equal xz\n",
        "  if xn%100==99: torch.cuda.empty_cache() # change to 100 and 99 for 512x512, 50 & 49 for\n",
        "  if xn%change_prompt_every==change_prompt_every-1: # this freaky bit of code allows you to change the overlap between full iterations of the control images\n",
        "    pc=pc+1\n",
        "    prompt=prompt_list[(pc%change_prompt_every)%plist_len]\n",
        "    print(pc)\n",
        "\n",
        "\n",
        "  print(prompt) # so you can see when it changes over\n",
        "\n",
        "  xr=1+(xn%number_of_control_images)\n",
        "  naym = control_image_path +str(xr).zfill(5) + \".png\" # change this to match the name of your sequence of images.\n",
        "  control_image= load_image(naym).convert(\"RGB\")\n",
        "\n",
        "  image = pipe(\n",
        "    prompt,\n",
        "    control_image,\n",
        "    negative_prompt=negative_prompt,\n",
        "    generator=generator,\n",
        "    num_inference_steps=5,\n",
        "  )[0]\n",
        "\n",
        "\n",
        "  out2=outdir+\"/\" + str(xz).zfill(4) + \".png\"\n",
        "  xz+=1\n",
        "  print(str(xz) + \" of \" + str(total))\n",
        "  image[0].save(out2) # save animation frame\n",
        "\n",
        "os.system(f\"ffmpeg -framerate 24.5 -i %04d.png -ac 2 -pix_fmt yuv420p -vsync 2 {animation_name} \")\n",
        "os.system(f\"cp {animation_name}  /content/drive/MyDrive\")\n",
        "#if the above errors because you didn't use google drive you can still download from the left side-list.\n",
        "if zip_name !=\"none\":\n",
        "  os.system(f\"zip -r {zip_name} {outdir}\")\n",
        "  os.system(f\"cp {zip_name}  /content/drive/MyDrive\")\n"
      ],
      "metadata": {
        "id": "9dvhpH24y9ho",
        "cellView": "code"
      },
      "execution_count": null,
      "outputs": []
    },
    {
      "cell_type": "code",
      "source": [
        "#run this cell after starting cell above if you don't want to burn\n",
        "#google compute credits unnecessarily.\n",
        "from google.colab import runtime\n",
        "runtime.unassign()"
      ],
      "metadata": {
        "id": "eEpno8j6MIum"
      },
      "execution_count": null,
      "outputs": []
    }
  ]
}