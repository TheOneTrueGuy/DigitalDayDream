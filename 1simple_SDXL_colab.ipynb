{
  "nbformat": 4,
  "nbformat_minor": 0,
  "metadata": {
    "colab": {
      "provenance": [],
      "authorship_tag": "ABX9TyOcaP2nnraE3uhqeobUSd5v",
      "include_colab_link": true
    },
    "kernelspec": {
      "name": "python3",
      "display_name": "Python 3"
    },
    "language_info": {
      "name": "python"
    }
  },
  "cells": [
    {
      "cell_type": "markdown",
      "metadata": {
        "id": "view-in-github",
        "colab_type": "text"
      },
      "source": [
        "<a href=\"https://colab.research.google.com/github/TheOneTrueGuy/DigitalDayDream/blob/main/1simple_SDXL_colab.ipynb\" target=\"_parent\"><img src=\"https://colab.research.google.com/assets/colab-badge.svg\" alt=\"Open In Colab\"/></a>"
      ]
    },
    {
      "cell_type": "code",
      "execution_count": null,
      "metadata": {
        "id": "PBD5LWB2jNhc"
      },
      "outputs": [],
      "source": [
        "!pip install --upgrade diffusers transformers accelerate"
      ]
    },
    {
      "cell_type": "code",
      "source": [
        "from google.colab import drive\n",
        "drive.mount('/content/drive')"
      ],
      "metadata": {
        "id": "0FHobBfejZ55"
      },
      "execution_count": null,
      "outputs": []
    },
    {
      "cell_type": "code",
      "source": [
        "# run this first then make anim in next cell\n",
        "import torch\n",
        "from diffusers import StableDiffusionXLImg2ImgPipeline\n",
        "from diffusers.utils import load_image\n",
        "#from diffusers import DiffusionPipeline\n",
        "import datetime as dt\n",
        "import time\n",
        "import os\n",
        "import random\n",
        "from PIL import ImageFont, ImageDraw, Image\n",
        "\n",
        "class FakeSafety():\n",
        "    def __call__(self, clip_input, images):\n",
        "        return (images, False)\n",
        "\n",
        "\n",
        "# check to see if pipe is loaded, if not load it otherwise skip loading pipe\n",
        "\n",
        "#if pipe is None:\n",
        "\n",
        "\n",
        "\n",
        "#pipe = StableDiffusionXLImg2ImgPipeline.from_pretrained(\n",
        "#  \"stabilityai/stable-diffusion-xl-refiner-1.0\", torch_dtype=torch.float16\n",
        "#) # can't use LoRa??\n",
        "\n",
        "pipe = StableDiffusionXLImg2ImgPipeline.from_pretrained(\n",
        "  \"stabilityai/stable-diffusion-xl-base-1.0\", torch_dtype=torch.float16\n",
        ")\n",
        "\n",
        "\n",
        "#chillpixel/starlight-animated-sdxl\n",
        "\n",
        "pipe.load_lora_weights(\"goofyai/cyborg_style_xl\") # use with \"cyborg\" or \"android\" keyword\n",
        "#pipe.load_lora_weights(\"datamonet/Makima_Chainsaw_Man_LoRA\") #needs weight_name\n",
        "#pipe.load_lora_weights(\"\") #spare for swapping in new loras\n",
        "\n",
        "# cadaeic/duelyst-landscape-lora\n",
        "# Duskfallcrew/the-crystal-exarch-15\n",
        "# datamonet/Makima_Chainsaw_Man_LoRA\n",
        "\n",
        "\n",
        "pipe = pipe.to(\"cuda\")\n",
        "pipe.safety_checker = FakeSafety()\n",
        "\n",
        "# the following might work with some param tweaking but I didn't have good luck with these LoRas\n",
        "# Norod78/sdxl-pumpkin-head-lora #not good\n",
        "# lora-library/tekakutli-dinosaurs #didn't work\n"
      ],
      "metadata": {
        "id": "W6TMuVpsjeDF"
      },
      "execution_count": null,
      "outputs": []
    },
    {
      "cell_type": "code",
      "source": [
        "#@title upload start image 512x512 will be quick and look good\n",
        "\n",
        "import os\n",
        "\n",
        "from google.colab import files\n",
        "uploaded = files.upload()\n"
      ],
      "metadata": {
        "id": "D5shShw9mkoy"
      },
      "execution_count": null,
      "outputs": []
    },
    {
      "cell_type": "code",
      "source": [
        "\n",
        "zip_name = \"easy_to_remember_name.zip\" #@param {type:\"string\"}\n",
        "negprompt = \" monochrome, dumb, flat, boring, ordinary\" #@param {type:\"string\"}\n",
        "prompt= \"Something really amazing that everyonoe wants to see\" #@param {type:\"string\"}\n",
        "\n",
        "\n",
        "outdir = dt.datetime.now().strftime(\"%Y%m%d%H%M\")\n",
        "# if outdir exists add 4 random digits to it:\n",
        "if os.path.exists(outdir):\n",
        "    # Generate 4 random digits\n",
        "    random_digits = str(random.randint(1000, 9999))\n",
        "\n",
        "    # Create a new output directory with the random digits appended\n",
        "    new_outdir = outdir + random_digits\n",
        "\n",
        "    os.mkdir(new_outdir)\n",
        "    outdir=new_outdir\n",
        "    print(\"Created new output directory:\", new_outdir)\n",
        "else:\n",
        "    os.system(f\"mkdir {outdir}\")\n",
        "print(\"date time now:\" + outdir)\n",
        "\n",
        "\n",
        "\n",
        "\n",
        "total=400\n",
        "\n",
        "for xn in range(0,total,1):\n",
        "  if xn%50==49: torch.cuda.empty_cache()\n",
        "  init_image = load_image(uploaded).convert(\"RGB\")#\n",
        "\n",
        "  image = pipe(\n",
        "               prompt,\n",
        "               num_inference_steps=14,\n",
        "               strength=0.81,\n",
        "               guidance_scale=7.34,\n",
        "               negative_prompt = negprompt ,\n",
        "               image=init_image\n",
        "               ).images[0]\n",
        "  outname= uploaded\n",
        "\n",
        "  out2=outdir+\"/st-\" + str(xz).zfill(4) + \".png\"\n",
        "  image.save(out2) # save animation frame\n",
        "  xz+=1\n",
        "  image.save(outname)\n",
        "  #next 2 lines apply motion distortion from moto*.txt motion files\n",
        "  # deleted lines\n",
        "os.system(f\"zip -r {zip_name} {outdir}\")\n",
        "os.system(f\"cp {zip_name}  /content/drive/MyDrive/product\")\n"
      ],
      "metadata": {
        "cellView": "code",
        "id": "6p8PGmUCkja8"
      },
      "execution_count": null,
      "outputs": []
    }
  ]
}